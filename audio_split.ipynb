{
 "cells": [
  {
   "cell_type": "code",
   "execution_count": 1,
   "metadata": {},
   "outputs": [],
   "source": [
    "from nltk import sent_tokenize\n",
    "import re\n",
    "import json\n",
    "from pydub import AudioSegment\n",
    "from aeneas.executetask import ExecuteTask\n",
    "from aeneas.task import Task"
   ]
  },
  {
   "cell_type": "code",
   "execution_count": 2,
   "metadata": {},
   "outputs": [
    {
     "name": "stdout",
     "output_type": "stream",
     "text": [
      "Number of sentences: 291\n"
     ]
    }
   ],
   "source": [
    "# Step 1: read script from script.txt, remove newlines, and splitting into sentences\n",
    "\n",
    "AUDIO_CHAPTER_FILE = \"DCLG7C9.wav\"  # Path to the wav audio file (can be relative)\n",
    "SCRIPT_CHAPTER_FILE = \"script.txt\" # Path to the script file (can be relative) \n",
    "OUTPUT_FILE = \"output.json\"\n",
    "\n",
    "r = r'\\n+'\n",
    "with open(SCRIPT_CHAPTER_FILE,\"r\") as script:\n",
    "    text = script.read()\n",
    "new_text = re.sub(pattern=r,repl=\" \",string=text)\n",
    "\n",
    "sentences = sent_tokenize(new_text)\n",
    "\n",
    "print(\"Number of sentences:\", len(sentences))\n",
    "\n",
    "with open(SCRIPT_CHAPTER_FILE,\"w\") as script:\n",
    "    script.writelines(\"\\n\".join(sentences))"
   ]
  },
  {
   "cell_type": "markdown",
   "metadata": {},
   "source": [
    "Step 2: \n",
    "Download Audacity from <https://www.audacityteam.org/>, open the audio chapter, double check with the script file to find spelling errors, etc. Also remove all the parts with music. Exported the clean audio to wav format"
   ]
  },
  {
   "cell_type": "code",
   "execution_count": 3,
   "metadata": {},
   "outputs": [
    {
     "data": {
      "text/plain": [
       "'output.json'"
      ]
     },
     "execution_count": 3,
     "metadata": {},
     "output_type": "execute_result"
    }
   ],
   "source": [
    "# Step 3: split the audio using the script with aeneas\n",
    "\n",
    "config_string = \"task_language=vie|os_task_file_format=json|is_text_type=plain|task_adjust_boundary_algorithm=rate|task_adjust_boundary_rate_value=17|task_adjust_boundary_nonspeech_min=0.1|task_adjust_boundary_nonspeech_string=REMOVE\"\n",
    "task = Task(config_string=config_string)\n",
    "task.audio_file_path_absolute = AUDIO_CHAPTER_FILE \n",
    "task.text_file_path_absolute = SCRIPT_CHAPTER_FILE \n",
    "task.sync_map_file_path_absolute = OUTPUT_FILE \n",
    "ExecuteTask(task).execute() # execute\n",
    "task.output_sync_map_file() # write the sync map to output file"
   ]
  },
  {
   "cell_type": "code",
   "execution_count": 4,
   "metadata": {},
   "outputs": [],
   "source": [
    "# Step 4: convert unicode to string\n",
    "# Since aeneas use python 2, and python 2 doesn't have string type, we need to convert it to python 3 string\n",
    "\n",
    "with open(OUTPUT_FILE,\"r\") as output:\n",
    "    arr = json.load(output)\n",
    "json.dump(fp=open(OUTPUT_FILE,\"w\"),obj=arr,ensure_ascii=False)"
   ]
  },
  {
   "cell_type": "code",
   "execution_count": 5,
   "metadata": {},
   "outputs": [],
   "source": [
    "import os\n",
    "book = AudioSegment.from_wav(AUDIO_CHAPTER_FILE)\n",
    "\n",
    "# Step 5: Splitting the audio book into sentences\n",
    "if not os.path.exists(\"splitted\"): # Make splitted directory\n",
    "    os.makedirs(\"splitted\") \n",
    "    \n",
    "os.chdir(\"splitted/\") \n",
    "\n",
    "for i in range (0,len(arr[\"fragments\"])):\n",
    "    fragment = arr[\"fragments\"][i]\n",
    "    begin = float(fragment[\"begin\"])*1000\n",
    "    end = float(fragment[\"end\"])*1000\n",
    "    clip = book[begin:end]\n",
    "    clip.export(\"{}.wav\".format(fragment[\"id\"][-3:]),format=\"wav\")\n",
    "\n",
    "os.chdir(\"..\")"
   ]
  },
  {
   "cell_type": "markdown",
   "metadata": {},
   "source": [
    "Step 6:  \n",
    "Navigate to splitted folder, and do the last manual check of the splitted audios file to make sure they match the script. Every splitted audio file should contain **1 sentence**"
   ]
  },
  {
   "cell_type": "code",
   "execution_count": null,
   "metadata": {},
   "outputs": [],
   "source": []
  }
 ],
 "metadata": {
  "kernelspec": {
   "display_name": "tf",
   "language": "python",
   "name": "tensorflow"
  },
  "language_info": {
   "codemirror_mode": {
    "name": "ipython",
    "version": 3
   },
   "file_extension": ".py",
   "mimetype": "text/x-python",
   "name": "python",
   "nbconvert_exporter": "python",
   "pygments_lexer": "ipython3",
   "version": "3.6.5"
  }
 },
 "nbformat": 4,
 "nbformat_minor": 2
}
